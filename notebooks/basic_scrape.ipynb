{
 "cells": [
  {
   "cell_type": "code",
   "execution_count": 2,
   "metadata": {},
   "outputs": [],
   "source": [
    "import requests\n",
    "import feedparser\n",
    "import os\n",
    "import pprint\n",
    "\n",
    "os.chdir(\"/Users/ct6g18/Python/Fuelwatch/src/\")\n",
    "\n",
    "import fuelwatch\n"
   ]
  },
  {
   "cell_type": "code",
   "execution_count": 3,
   "metadata": {},
   "outputs": [],
   "source": [
    "test = fuelwatch.FuelPrice(brand=\"Caltex\",suburb=\"Ellenbrook\")"
   ]
  },
  {
   "cell_type": "code",
   "execution_count": null,
   "metadata": {},
   "outputs": [],
   "source": [
    "test.response.url"
   ]
  },
  {
   "cell_type": "code",
   "execution_count": 4,
   "metadata": {},
   "outputs": [
    {
     "data": {
      "text/plain": [
       "b'<?xml version=\"1.0\" encoding=\"UTF-8\"?>\\r\\n<rss version=\"2.0\"><channel><title>FuelWatch Prices For Ellenbrook</title><ttl>720</ttl><link>https://www.fuelwatch.wa.gov.au</link><description>05/12/2022 - Ellenbrook</description><language>en-us</language><copyright>Copyright 2005 FuelWatch. All Rights Reserved.</copyright><lastBuildDate>Mon Dec 05 19:44:51 AWST 2022Mon Dec 05 19:44:51 AWST 2022</lastBuildDate><image><url>/fuelwatch/art/fuelwatch-logo.gif</url><title>FuelWatch</title><link>https://www.fuelwatch.wa.gov.au</link></image><item><title>163.9: EG Ampol Aveley</title><description>Address: 317 Millhouse Rd, AVELEY, Phone: (08) 6186 0422, Open Mon-Fri: 05:00-23:00, Sat: 05:00-23:00, Sun: 05:00-23:00</description><brand>EG Ampol</brand><date>2022-12-05</date><price>163.9</price><trading-name>EG Ampol Aveley</trading-name><location>AVELEY</location><address>317 Millhouse Rd</address><phone>(08) 6186 0422</phone><latitude>-31.777467</latitude><longitude>115.987368</longitude><site-features>, Open Mon-Fri: 05:00-23:00, Sat: 05:00-23:00, Sun: 05:00-23:00</site-features></item><item><title>163.9: Coles Express Ellenbrook</title><description>Address: 3 Goodwood Cres, ELLENBROOK, Phone: (08) 6247 4312, Open 24 hours</description><brand>Coles Express</brand><date>2022-12-05</date><price>163.9</price><trading-name>Coles Express Ellenbrook</trading-name><location>ELLENBROOK</location><address>3 Goodwood Cres</address><phone>(08) 6247 4312</phone><latitude>-31.775</latitude><longitude>115.96</longitude><site-features>, Open 24 hours</site-features></item><item><title>164.9: United Ellenbrook</title><description>Address: 3 Locke Lane, ELLENBROOK, Phone: (08) 6336 7752, Site features:  ATM Air Bottled Gas EFTPOS Ice Toilets Trailer Hire Water, Open Mon-Fri: 06:00-22:00, Sat: 06:00-22:00, Sun: 06:00-22:00</description><brand>United</brand><date>2022-12-05</date><price>164.9</price><trading-name>United Ellenbrook</trading-name><location>ELLENBROOK</location><address>3 Locke Lane</address><phone>(08) 6336 7752</phone><latitude>-31.77852</latitude><longitude>115.96699</longitude><site-features> ATM Air Bottled Gas EFTPOS Ice Toilets Trailer Hire Water, Open Mon-Fri: 06:00-22:00, Sat: 06:00-22:00, Sun: 06:00-22:00</site-features></item><item><title>165.9: EG Ampol Ellenbrook</title><description>Address: 11 Main St, ELLENBROOK, Phone: (08) 9128 4200, Open 24 hours</description><brand>EG Ampol</brand><date>2022-12-05</date><price>165.9</price><trading-name>EG Ampol Ellenbrook</trading-name><location>ELLENBROOK</location><address>11 Main St</address><phone>(08) 9128 4200</phone><latitude>-31.780889</latitude><longitude>115.969189</longitude><site-features>, Open 24 hours</site-features></item><item><title>169.9: BP Ellenbrook</title><description>Address: 180 The Promenade, ELLENBROOK, Phone: (08) 9277 4758, Open 24 hours</description><brand>BP</brand><date>2022-12-05</date><price>169.9</price><trading-name>BP Ellenbrook</trading-name><location>ELLENBROOK</location><address>180 The Promenade</address><phone>(08) 9277 4758</phone><latitude>-31.775436</latitude><longitude>115.963073</longitude><site-features>, Open 24 hours</site-features></item><item><title>169.9: 7-Eleven Malvern Springs</title><description>Address: 324 The Broadway, ELLENBROOK, Phone: (08) 6296 9138, Open 24 hours</description><brand>7-Eleven</brand><date>2022-12-05</date><price>169.9</price><trading-name>7-Eleven Malvern Springs</trading-name><location>ELLENBROOK</location><address>324 The Broadway</address><phone>(08) 6296 9138</phone><latitude>-31.766075</latitude><longitude>115.985544</longitude><site-features>, Open 24 hours</site-features></item><item><title>169.9: BP Henley Brook</title><description>Address: 1520 Gnangara Rd, HENLEY BROOK, Phone: (08) 6296 5788, Site features: Conditional Driveway Service, ATM Air Bottled AdBlue Bottled Gas Carwash Discount Voucher EFTPOS Fuel Cards Ice Pumped AdBlue Restaurant Toilets Trailer Hire Truck Friendly Water, Open 24 hours</description><brand>BP</brand><date>2022-12-05</date><price>169.9</price><trading-name>BP Henley Brook</trading-name><location>HENLEY BROOK</location><address>1520 Gnangara Rd</address><phone>(08) 6296 5788</phone><latitude>-31.795951</latitude><longitude>115.978636</longitude><site-features>Conditional Driveway Service, ATM Air Bottled AdBlue Bottled Gas Carwash Discount Voucher EFTPOS Fuel Cards Ice Pumped AdBlue Restaurant Toilets Trailer Hire Truck Friendly Water, Open 24 hours</site-features></item><item><title>169.9: United Lexia</title><description>Address: 779 Gnangara Rd, LEXIA, Phone: (08) 6336 7753, Site features:  ATM Air Bottled Gas EFTPOS Fuel Cards Ice Pumped AdBlue Toilets Trailer Hire Truck Friendly Water, Open Mon-Fri: 05:00-22:00, Sat: 05:00-22:00, Sun: 05:00-22:00</description><brand>United</brand><date>2022-12-05</date><price>169.9</price><trading-name>United Lexia</trading-name><location>LEXIA</location><address>779 Gnangara Rd</address><phone>(08) 6336 7753</phone><latitude>-31.795189</latitude><longitude>115.899559</longitude><site-features> ATM Air Bottled Gas EFTPOS Fuel Cards Ice Pumped AdBlue Toilets Trailer Hire Truck Friendly Water, Open Mon-Fri: 05:00-22:00, Sat: 05:00-22:00, Sun: 05:00-22:00</site-features></item><item><title>177.9: Vibe Bullsbrook</title><description>Address: 2533 Great Northern Hwy, BULLSBROOK, Open 24 hours</description><brand>Vibe</brand><date>2022-12-05</date><price>177.9</price><trading-name>Vibe Bullsbrook</trading-name><location>BULLSBROOK</location><address>2533 Great Northern Hwy</address><phone /><latitude>-31.671935</latitude><longitude>116.031427</longitude><site-features>, Open 24 hours</site-features></item><item><title>177.9: Vibe Upper Swan IGA Xpress</title><description>Address: 1447 Great Northern Hwy, UPPER SWAN, Site features:  ATM Air Bottled Gas Discount Voucher EFTPOS Fuel Cards Ice Restaurant Toilets Trailer Hire Water, Open 24 hours</description><brand>Vibe</brand><date>2022-12-05</date><price>177.9</price><trading-name>Vibe Upper Swan IGA Xpress</trading-name><location>UPPER SWAN</location><address>1447 Great Northern Hwy</address><phone /><latitude>-31.765846</latitude><longitude>116.031763</longitude><site-features> ATM Air Bottled Gas Discount Voucher EFTPOS Fuel Cards Ice Restaurant Toilets Trailer Hire Water, Open 24 hours</site-features></item><item><title>179: Shell Bullsbrook</title><description>Address: 2539 Great Northern Hwy, BULLSBROOK, Phone: (08) 9571 1212, Open Mon-Fri: 05:00-17:30, Sat: 06:30-17:00, Sun: 07:30-13:00</description><brand>Shell</brand><date>2022-12-05</date><price>179</price><trading-name>Shell Bullsbrook</trading-name><location>BULLSBROOK</location><address>2539 Great Northern Hwy</address><phone>(08) 9571 1212</phone><latitude>-31.671536</latitude><longitude>116.031446</longitude><site-features>, Open Mon-Fri: 05:00-17:30, Sat: 06:30-17:00, Sun: 07:30-13:00</site-features></item><item><title>179.7: Puma Upper Swan</title><description>Address: 1383 Great Northern Hwy, UPPER SWAN, Phone: (08) 6192 1112, Open 24 hours</description><brand>Puma</brand><date>2022-12-05</date><price>179.7</price><trading-name>Puma Upper Swan</trading-name><location>UPPER SWAN</location><address>1383 Great Northern Hwy</address><phone>(08) 6192 1112</phone><latitude>-31.770891</latitude><longitude>116.028679</longitude><site-features>, Open 24 hours</site-features></item><item><title>179.9: Coles Express Upper Swan Roadhouse</title><description>Address: 1333 Great Northern Hwy, UPPER SWAN, Phone: (08) 6157 5642, Open 24 hours</description><brand>Coles Express</brand><date>2022-12-05</date><price>179.9</price><trading-name>Coles Express Upper Swan Roadhouse</trading-name><location>UPPER SWAN</location><address>1333 Great Northern Hwy</address><phone>(08) 6157 5642</phone><latitude>-31.774597</latitude><longitude>116.025849</longitude><site-features>, Open 24 hours</site-features></item><item><title>187.9: BP Baskerville</title><description>Address: 1084 Great Northern Hwy, BASKERVILLE, Phone: (08) 9296 4229, Site features: Conditional Driveway Service</description><brand>BP</brand><date>2022-12-05</date><price>187.9</price><trading-name>BP Baskerville</trading-name><location>BASKERVILLE</location><address>1084 Great Northern Hwy</address><phone>(08) 9296 4229</phone><latitude>-31.797752</latitude><longitude>116.021245</longitude><site-features>Conditional Driveway Service, </site-features></item></channel></rss>\\r\\n'"
      ]
     },
     "execution_count": 4,
     "metadata": {},
     "output_type": "execute_result"
    }
   ],
   "source": [
    "test = fuelwatch.FuelPrice(suburb=\"Ellenbrook\")\n",
    "test.response.content"
   ]
  },
  {
   "cell_type": "code",
   "execution_count": 8,
   "metadata": {},
   "outputs": [
    {
     "name": "stdout",
     "output_type": "stream",
     "text": [
      "0th Result: EG Ampol sells petrol for 163.9 at 317 Millhouse Rd\n",
      "1th Result: Coles Express sells petrol for 163.9 at 3 Goodwood Cres\n",
      "2th Result: United sells petrol for 164.9 at 3 Locke Lane\n",
      "3th Result: EG Ampol sells petrol for 165.9 at 11 Main St\n",
      "4th Result: BP sells petrol for 169.9 at 180 The Promenade\n",
      "5th Result: 7-Eleven sells petrol for 169.9 at 324 The Broadway\n",
      "6th Result: BP sells petrol for 169.9 at 1520 Gnangara Rd\n",
      "7th Result: United sells petrol for 169.9 at 779 Gnangara Rd\n",
      "8th Result: Vibe sells petrol for 177.9 at 2533 Great Northern Hwy\n",
      "9th Result: Vibe sells petrol for 177.9 at 1447 Great Northern Hwy\n",
      "10th Result: Shell sells petrol for 179 at 2539 Great Northern Hwy\n",
      "11th Result: Puma sells petrol for 179.7 at 1383 Great Northern Hwy\n",
      "12th Result: Coles Express sells petrol for 179.9 at 1333 Great Northern Hwy\n",
      "13th Result: BP sells petrol for 187.9 at 1084 Great Northern Hwy\n"
     ]
    }
   ],
   "source": [
    "feed = feedparser.parse(test.response.content)['entries']\n",
    "brand = feed[0]['brand']\n",
    "address = feed[0]['address']\n",
    "price = feed[0]['price']\n",
    "\n",
    "for feed_num, feed_val in enumerate(feed):\n",
    "    brand = feed_val['brand']\n",
    "    address = feed_val['address']\n",
    "    price = feed_val['price']\n",
    "    print(f\"{feed_num}th Result: {brand} sells petrol for {price} at {address}\")"
   ]
  }
 ],
 "metadata": {
  "kernelspec": {
   "display_name": "Python 3.9.15 ('fuelwatch')",
   "language": "python",
   "name": "python3"
  },
  "language_info": {
   "codemirror_mode": {
    "name": "ipython",
    "version": 3
   },
   "file_extension": ".py",
   "mimetype": "text/x-python",
   "name": "python",
   "nbconvert_exporter": "python",
   "pygments_lexer": "ipython3",
   "version": "3.9.15"
  },
  "orig_nbformat": 4,
  "vscode": {
   "interpreter": {
    "hash": "56522757861c7c363b90e90144e16e71a85939a793a6f04d9d909b0064def63e"
   }
  }
 },
 "nbformat": 4,
 "nbformat_minor": 2
}

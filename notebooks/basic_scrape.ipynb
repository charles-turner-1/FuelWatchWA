{
 "cells": [
  {
   "cell_type": "code",
   "execution_count": 9,
   "metadata": {},
   "outputs": [],
   "source": [
    "import requests\n",
    "import feedparser\n",
    "import os\n",
    "import pprint\n",
    "\n",
    "os.chdir(\"/Users/ct6g18/Python/Fuelwatch/src/\")\n",
    "\n",
    "import fuelwatch"
   ]
  },
  {
   "cell_type": "code",
   "execution_count": 10,
   "metadata": {},
   "outputs": [
    {
     "data": {
      "text/plain": [
       "['7-Eleven',\n",
       " 'Ampol',\n",
       " 'Better Choice',\n",
       " 'BOC',\n",
       " 'BP',\n",
       " 'Caltex',\n",
       " 'Caltex Woolworths',\n",
       " 'Coles Express',\n",
       " 'Costco',\n",
       " 'Eagle',\n",
       " 'FastFuel 24/7',\n",
       " 'Gull',\n",
       " 'Independent',\n",
       " 'Kleenheat',\n",
       " 'Kwikfuel',\n",
       " 'Liberty',\n",
       " 'Metro Petroleum',\n",
       " 'Mobil',\n",
       " 'Mogas',\n",
       " 'Peak',\n",
       " 'Puma',\n",
       " 'Shell',\n",
       " 'United',\n",
       " 'Vibe',\n",
       " 'WA Fuels',\n",
       " 'Wesco']"
      ]
     },
     "execution_count": 10,
     "metadata": {},
     "output_type": "execute_result"
    }
   ],
   "source": [
    "test = fuelwatch.FuelPrice(suburb=\"Balcatta\")\n",
    "test.get_brands()"
   ]
  },
  {
   "cell_type": "code",
   "execution_count": 11,
   "metadata": {},
   "outputs": [
    {
     "name": "stdout",
     "output_type": "stream",
     "text": [
      "7-Eleven sells Unleaded Petrol for 161.9 at 174 Balcatta Rd\n",
      "7-Eleven sells Unleaded Petrol for 161.9 at 377 Wanneroo Rd\n",
      "7-Eleven sells Unleaded Petrol for 161.9 at 102 Princess Rd\n"
     ]
    },
    {
     "data": {
      "text/plain": [
       "{'Brand': 29, 'Suburb': 'Balcatta', 'Surrounding': 'yes'}"
      ]
     },
     "execution_count": 11,
     "metadata": {},
     "output_type": "execute_result"
    }
   ],
   "source": [
    "test = fuelwatch.FuelPrice(suburb=\"Balcatta\",brand=\"7-Eleven\")\n",
    "test.print_all()\n",
    "test.payload"
   ]
  },
  {
   "cell_type": "code",
   "execution_count": 12,
   "metadata": {},
   "outputs": [
    {
     "name": "stdout",
     "output_type": "stream",
     "text": [
      "dict_keys(['title', 'title_detail', 'summary', 'summary_detail', 'brand', 'updated', 'price', 'trading-name', 'location', 'address', 'phone', 'latitude', 'longitude', 'site-features'])\n"
     ]
    }
   ],
   "source": [
    "import pprint\n",
    "feed = feedparser.parse(test.response.content)['entries']\n",
    "pprint.pprint(feed[0].keys())"
   ]
  },
  {
   "cell_type": "code",
   "execution_count": 13,
   "metadata": {},
   "outputs": [
    {
     "name": "stdout",
     "output_type": "stream",
     "text": [
      "0th Result: 7-Eleven sells petrol for 161.9 at 174 Balcatta Rd\n",
      "1th Result: 7-Eleven sells petrol for 161.9 at 377 Wanneroo Rd\n",
      "2th Result: 7-Eleven sells petrol for 161.9 at 102 Princess Rd\n"
     ]
    }
   ],
   "source": [
    "feed = feedparser.parse(test.response.content)['entries']\n",
    "brand = feed[0]['brand']\n",
    "address = feed[0]['address']\n",
    "price = feed[0]['price']\n",
    "\n",
    "for feed_num, feed_val in enumerate(feed):\n",
    "    brand = feed_val['brand']\n",
    "    address = feed_val['address']\n",
    "    price = feed_val['price']\n",
    "    print(f\"{feed_num}th Result: {brand} sells petrol for {price} at {address}\")"
   ]
  }
 ],
 "metadata": {
  "kernelspec": {
   "display_name": "Python 3",
   "language": "python",
   "name": "python3"
  },
  "language_info": {
   "codemirror_mode": {
    "name": "ipython",
    "version": 3
   },
   "file_extension": ".py",
   "mimetype": "text/x-python",
   "name": "python",
   "nbconvert_exporter": "python",
   "pygments_lexer": "ipython3",
   "version": "3.9.15"
  },
  "orig_nbformat": 4,
  "vscode": {
   "interpreter": {
    "hash": "56522757861c7c363b90e90144e16e71a85939a793a6f04d9d909b0064def63e"
   }
  }
 },
 "nbformat": 4,
 "nbformat_minor": 2
}

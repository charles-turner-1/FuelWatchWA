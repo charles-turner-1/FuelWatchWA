{
 "cells": [
  {
   "cell_type": "code",
   "execution_count": 1,
   "metadata": {},
   "outputs": [],
   "source": [
    "import requests\n",
    "import feedparser\n",
    "import os\n",
    "import pprint\n",
    "\n",
    "os.chdir(\"/Users/ct6g18/Python/Fuelwatch/src/\")\n",
    "\n",
    "import fuelwatch\n"
   ]
  },
  {
   "cell_type": "code",
   "execution_count": null,
   "metadata": {},
   "outputs": [],
   "source": [
    "test = fuelwatch.FuelPrice(brand=\"Caltex\",suburb=\"Ellenbrook\")"
   ]
  },
  {
   "cell_type": "code",
   "execution_count": null,
   "metadata": {},
   "outputs": [],
   "source": [
    "test.response.url"
   ]
  },
  {
   "cell_type": "code",
   "execution_count": 4,
   "metadata": {},
   "outputs": [
    {
     "name": "stdout",
     "output_type": "stream",
     "text": [
      "7-Eleven sells Unleaded Petrol for 169.9 at 174 Balcatta Rd\n",
      "7-Eleven sells Unleaded Petrol for 169.9 at 377 Wanneroo Rd\n",
      "7-Eleven sells Unleaded Petrol for 173.9 at 102 Princess Rd\n"
     ]
    }
   ],
   "source": [
    "test = fuelwatch.FuelPrice(suburb=\"Balcatta\",brand=\"7-Eleven\")\n",
    "test.print_all()"
   ]
  },
  {
   "cell_type": "code",
   "execution_count": null,
   "metadata": {},
   "outputs": [],
   "source": [
    "import pprint\n",
    "feed = feedparser.parse(test.response.content)['entries']\n",
    "pprint.pprint(feed[0])"
   ]
  },
  {
   "cell_type": "code",
   "execution_count": null,
   "metadata": {},
   "outputs": [],
   "source": [
    "feed = feedparser.parse(test.response.content)['entries']\n",
    "brand = feed[0]['brand']\n",
    "address = feed[0]['address']\n",
    "price = feed[0]['price']\n",
    "\n",
    "for feed_num, feed_val in enumerate(feed):\n",
    "    brand = feed_val['brand']\n",
    "    address = feed_val['address']\n",
    "    price = feed_val['price']\n",
    "    print(f\"{feed_num}th Result: {brand} sells petrol for {price} at {address}\")"
   ]
  }
 ],
 "metadata": {
  "kernelspec": {
   "display_name": "Python 3.9.15 ('fuelwatch')",
   "language": "python",
   "name": "python3"
  },
  "language_info": {
   "codemirror_mode": {
    "name": "ipython",
    "version": 3
   },
   "file_extension": ".py",
   "mimetype": "text/x-python",
   "name": "python",
   "nbconvert_exporter": "python",
   "pygments_lexer": "ipython3",
   "version": "3.9.15"
  },
  "orig_nbformat": 4,
  "vscode": {
   "interpreter": {
    "hash": "56522757861c7c363b90e90144e16e71a85939a793a6f04d9d909b0064def63e"
   }
  }
 },
 "nbformat": 4,
 "nbformat_minor": 2
}
